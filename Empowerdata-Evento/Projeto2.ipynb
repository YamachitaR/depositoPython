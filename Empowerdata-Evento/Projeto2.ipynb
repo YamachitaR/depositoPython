{
 "cells": [
  {
   "cell_type": "markdown",
   "id": "fcfc54a1",
   "metadata": {},
   "source": [
    "# Projeto \n",
    "\n",
    "## Sobre o Projeto\n",
    "\n",
    "Enviar e-mail\n",
    "\n",
    "## Passo a passo do projeto \n",
    "\n",
    "- Passo 1: Buscar dados das ações automaticamente;\n",
    "- Passo 2: Realizar as análises solicitadas pelo meu gestor;\n",
    "- Passo 3: Enviar autometicamente o e-mail com o resultada da análise. "
   ]
  },
  {
   "cell_type": "markdown",
   "id": "ef7a2d5c",
   "metadata": {},
   "source": [
    "## Passo 1"
   ]
  },
  {
   "cell_type": "code",
   "execution_count": 1,
   "id": "ae5fcc2e",
   "metadata": {},
   "outputs": [
    {
     "name": "stdout",
     "output_type": "stream",
     "text": [
      "Defaulting to user installation because normal site-packages is not writeable\n",
      "Requirement already satisfied: yfinance in /home/rick/.local/lib/python3.10/site-packages (0.2.18)\n",
      "Requirement already satisfied: pandas>=1.3.0 in /home/rick/.local/lib/python3.10/site-packages (from yfinance) (1.5.1)\n",
      "Requirement already satisfied: numpy>=1.16.5 in /usr/lib/python3/dist-packages (from yfinance) (1.21.5)\n",
      "Requirement already satisfied: requests>=2.26 in /home/rick/.local/lib/python3.10/site-packages (from yfinance) (2.31.0)\n",
      "Requirement already satisfied: multitasking>=0.0.7 in /home/rick/.local/lib/python3.10/site-packages (from yfinance) (0.0.11)\n",
      "Requirement already satisfied: lxml>=4.9.1 in /home/rick/.local/lib/python3.10/site-packages (from yfinance) (4.9.2)\n",
      "Requirement already satisfied: appdirs>=1.4.4 in /usr/lib/python3/dist-packages (from yfinance) (1.4.4)\n",
      "Requirement already satisfied: pytz>=2022.5 in /home/rick/.local/lib/python3.10/site-packages (from yfinance) (2023.3)\n",
      "Requirement already satisfied: frozendict>=2.3.4 in /home/rick/.local/lib/python3.10/site-packages (from yfinance) (2.3.8)\n",
      "Requirement already satisfied: cryptography>=3.3.2 in /usr/lib/python3/dist-packages (from yfinance) (3.4.8)\n",
      "Requirement already satisfied: beautifulsoup4>=4.11.1 in /home/rick/.local/lib/python3.10/site-packages (from yfinance) (4.12.2)\n",
      "Requirement already satisfied: html5lib>=1.1 in /usr/lib/python3/dist-packages (from yfinance) (1.1)\n",
      "Requirement already satisfied: soupsieve>1.2 in /usr/lib/python3/dist-packages (from beautifulsoup4>=4.11.1->yfinance) (2.3.1)\n",
      "Requirement already satisfied: python-dateutil>=2.8.1 in /usr/lib/python3/dist-packages (from pandas>=1.3.0->yfinance) (2.8.1)\n",
      "Requirement already satisfied: charset-normalizer<4,>=2 in /home/rick/.local/lib/python3.10/site-packages (from requests>=2.26->yfinance) (3.1.0)\n",
      "Requirement already satisfied: idna<4,>=2.5 in /usr/lib/python3/dist-packages (from requests>=2.26->yfinance) (3.3)\n",
      "Requirement already satisfied: urllib3<3,>=1.21.1 in /usr/lib/python3/dist-packages (from requests>=2.26->yfinance) (1.26.5)\n",
      "Requirement already satisfied: certifi>=2017.4.17 in /usr/lib/python3/dist-packages (from requests>=2.26->yfinance) (2020.6.20)\n"
     ]
    }
   ],
   "source": [
    "!pip install yfinance"
   ]
  },
  {
   "cell_type": "code",
   "execution_count": 2,
   "id": "fd51c76c",
   "metadata": {},
   "outputs": [
    {
     "name": "stdout",
     "output_type": "stream",
     "text": [
      "Digite ação que voce quer seja analisado:PETR4.SA\n"
     ]
    }
   ],
   "source": [
    "import yfinance as yf\n",
    "\n",
    "# yahoo financia\n",
    "\n",
    "# 5d -> 5 dias \n",
    "# yf.Ticker('PETR4.SA').history('5d')\n",
    "# 'PETR$.SA'  -> nome das ações\n",
    "\n",
    "ticker = input(\"Digite ação que voce quer seja analisado:\")\n",
    "#ticker = 'PETR4.SA'\n",
    "\n",
    "dados =  yf.Ticker(ticker).history('6mo')"
   ]
  },
  {
   "cell_type": "code",
   "execution_count": 3,
   "id": "42f9a00c",
   "metadata": {},
   "outputs": [
    {
     "data": {
      "text/plain": [
       "<AxesSubplot:xlabel='Date'>"
      ]
     },
     "execution_count": 3,
     "metadata": {},
     "output_type": "execute_result"
    },
    {
     "data": {
      "image/png": "[encoded data removed]",
      "text/plain": [
       "<Figure size 432x288 with 1 Axes>"
      ]
     },
     "metadata": {
      "needs_background": "light"
     },
     "output_type": "display_data"
    }
   ],
   "source": [
    "fechamento = dados['Close']\n",
    "fechamento.plot()"
   ]
  },
  {
   "cell_type": "markdown",
   "id": "ff5cd427",
   "metadata": {},
   "source": [
    "## Passo 2 -Realizar  as análises solicitados pleo meu gestor\n",
    "\n",
    "- cotação maxima\n",
    "- cotação minima\n",
    "- cotação atual"
   ]
  },
  {
   "cell_type": "code",
   "execution_count": 4,
   "id": "22a21bbe",
   "metadata": {},
   "outputs": [
    {
     "name": "stdout",
     "output_type": "stream",
     "text": [
      "26.96\n",
      "19.11\n",
      "26.96\n"
     ]
    }
   ],
   "source": [
    "maxima = round(fechamento.max(), 2)\n",
    "minima = round(fechamento.min(), 2)\n",
    "atual = round(fechamento[-1], 2)\n",
    "\n",
    "print(maxima)\n",
    "print(minima)\n",
    "print(atual)"
   ]
  },
  {
   "cell_type": "markdown",
   "id": "ec8ff353",
   "metadata": {},
   "source": [
    "## Passo 3 - Enviar automaticamente o email com o resultado da analise \n",
    "\n",
    "-  abrir uma nova aba (ctrl + t)\n",
    "- digitar www.gmail.com e da enter\n",
    "- Clicar no botão escrever\n",
    "- Digitar o destinatario\n",
    "- (tab) para ir no assunto\n",
    "- Digitar o assunto \n",
    "- (tab) para ir no conteudo\n",
    "-  escrever o conteudo\n",
    "-  clicar em botão  enviar\n"
   ]
  },
  {
   "cell_type": "markdown",
   "id": "98f64bc4",
   "metadata": {},
   "source": [
    "### PYAUTOGUI\n",
    "\n",
    "A biblioteca que vai nos auxiliar a clicar e digitar, caso não esteja usando anaconda tem que instalar também **pyperclip**"
   ]
  },
  {
   "cell_type": "code",
   "execution_count": 5,
   "id": "d9e2adc2",
   "metadata": {},
   "outputs": [
    {
     "name": "stdout",
     "output_type": "stream",
     "text": [
      "Defaulting to user installation because normal site-packages is not writeable\n",
      "Requirement already satisfied: pyautogui in /home/rick/.local/lib/python3.10/site-packages (0.9.54)\n",
      "Requirement already satisfied: pymsgbox in /home/rick/.local/lib/python3.10/site-packages (from pyautogui) (1.0.9)\n",
      "Requirement already satisfied: pytweening>=1.0.4 in /home/rick/.local/lib/python3.10/site-packages (from pyautogui) (1.0.7)\n",
      "Requirement already satisfied: pyscreeze>=0.1.21 in /home/rick/.local/lib/python3.10/site-packages (from pyautogui) (0.1.29)\n",
      "Requirement already satisfied: pygetwindow>=0.0.5 in /home/rick/.local/lib/python3.10/site-packages (from pyautogui) (0.0.9)\n",
      "Requirement already satisfied: mouseinfo in /home/rick/.local/lib/python3.10/site-packages (from pyautogui) (0.1.3)\n",
      "Requirement already satisfied: python3-Xlib in /home/rick/.local/lib/python3.10/site-packages (from pyautogui) (0.15)\n",
      "Requirement already satisfied: pyrect in /home/rick/.local/lib/python3.10/site-packages (from pygetwindow>=0.0.5->pyautogui) (0.2.0)\n",
      "Requirement already satisfied: pyscreenshot in /home/rick/.local/lib/python3.10/site-packages (from pyscreeze>=0.1.21->pyautogui) (3.1)\n",
      "Requirement already satisfied: Pillow>=9.2.0 in /home/rick/.local/lib/python3.10/site-packages (from pyscreeze>=0.1.21->pyautogui) (9.5.0)\n",
      "Requirement already satisfied: pyperclip in /home/rick/.local/lib/python3.10/site-packages (from mouseinfo->pyautogui) (1.8.2)\n",
      "Requirement already satisfied: EasyProcess in /home/rick/.local/lib/python3.10/site-packages (from pyscreenshot->pyscreeze>=0.1.21->pyautogui) (1.1)\n",
      "Requirement already satisfied: entrypoint2 in /home/rick/.local/lib/python3.10/site-packages (from pyscreenshot->pyscreeze>=0.1.21->pyautogui) (1.1)\n",
      "Requirement already satisfied: mss in /home/rick/.local/lib/python3.10/site-packages (from pyscreenshot->pyscreeze>=0.1.21->pyautogui) (9.0.1)\n",
      "Requirement already satisfied: jeepney in /usr/lib/python3/dist-packages (from pyscreenshot->pyscreeze>=0.1.21->pyautogui) (0.7.1)\n"
     ]
    }
   ],
   "source": [
    "!pip install pyautogui"
   ]
  },
  {
   "cell_type": "code",
   "execution_count": 6,
   "id": "9479fcd4",
   "metadata": {
    "scrolled": true
   },
   "outputs": [
    {
     "name": "stdout",
     "output_type": "stream",
     "text": [
      "Defaulting to user installation because normal site-packages is not writeable\n",
      "Requirement already satisfied: pyperclip in /home/rick/.local/lib/python3.10/site-packages (1.8.2)\n"
     ]
    }
   ],
   "source": [
    "!pip install pyperclip"
   ]
  },
  {
   "cell_type": "code",
   "execution_count": 7,
   "id": "b1df10f2",
   "metadata": {},
   "outputs": [],
   "source": [
    "import pyautogui\n",
    "import pyperclip"
   ]
  },
  {
   "cell_type": "code",
   "execution_count": 8,
   "id": "af5107b0",
   "metadata": {},
   "outputs": [],
   "source": [
    "# dar uma pausa de 2 segundos ente os passos\n",
    "pyautogui.PAUSE = 3\n",
    "# caso contrario vai muito rapido e não de tempo para carregar a pagina\n",
    "\n",
    "# abrir a aba do navegador (ctrl + t)\n",
    "pyautogui.hotkey('ctrl', 't') \n",
    "\n",
    "#Abrir o Gmail\n",
    "pyperclip.copy(\"www.gmail.com\") # endereço www.gmail.com e da enter\n",
    "pyautogui.hotkey('ctrl', 'v') # vai colar endereço\n",
    "pyautogui.hotkey('enter') #vai da enter \n",
    "\n",
    "#clicar no botão Escrever para abri aquela janela para nos enviar a mensagem\n",
    "pyautogui.click(x=71, y= 213) #  essa posição  onde ponteiro do mouse vai clicar no botaão enviar \n",
    "# Para achar essa posição de uma olhada no pequeno codigo no proximo bloco\n",
    "\n",
    "# digitar o destinatario\n",
    "pyperclip.copy(\"rickyamas@gmail.com\") # colocque o endereço\n",
    "pyautogui.hotkey('ctrl', 'v') # colando o endereco\n",
    "pyautogui.hotkey(\"tab\") # da o tab, ele vai para o assunto \n",
    "\n",
    "\n",
    "#Prencher o assunto \n",
    "pyperclip.copy(\"Analise Diaria\") # Assusnto\n",
    "pyautogui.hotkey('ctrl', 'v') # colando o assunto \n",
    "pyautogui.hotkey(\"tab\") # da o tab, ele vai para o corpo do email\n",
    "\n",
    "# Corpo do Email\n",
    "mensagem = f\"\"\"\n",
    "Prezado Gestora,\n",
    "\n",
    "Seguem, conforme solicitado, as analise dos ultimos seis meses da ação {ticker}:\n",
    "\n",
    "Cotação minima: R$ {minima}\n",
    "Cotação maxima: R$ {maxima}\n",
    "Cotação atual: R$ {atual}\n",
    "\n",
    "Qualquer dúvida fico à disposição!\n",
    "\n",
    "Atte. Ricardo\n",
    "\n",
    "\"\"\"\n",
    "pyperclip.copy(mensagem)\n",
    "pyautogui.hotkey('ctrl', 'v')\n",
    "\n",
    "# clicando enviar\n",
    "pyautogui.click(x=540, y= 692)"
   ]
  },
  {
   "cell_type": "code",
   "execution_count": 9,
   "id": "8cc21cf8",
   "metadata": {},
   "outputs": [
    {
     "data": {
      "text/plain": [
       "Point(x=1298, y=55)"
      ]
     },
     "execution_count": 9,
     "metadata": {},
     "output_type": "execute_result"
    }
   ],
   "source": [
    "# Este bloco vai servir para nos acha a posição do mouse para saber onde clicar\n",
    "# esse 5 segundo e para da tempo de vc posicionar o local que vc quer que seja clicado\n",
    "# depois é so pegar a posição \n",
    "import time\n",
    "time.sleep(5)\n",
    "pyautogui.position()"
   ]
  },
  {
   "cell_type": "code",
   "execution_count": null,
   "id": "574c4a99",
   "metadata": {},
   "outputs": [],
   "source": []
  }
 ],
 "metadata": {
  "kernelspec": {
   "display_name": "Python 3 (ipykernel)",
   "language": "python",
   "name": "python3"
  },
  "language_info": {
   "codemirror_mode": {
    "name": "ipython",
    "version": 3
   },
   "file_extension": ".py",
   "mimetype": "text/x-python",
   "name": "python",
   "nbconvert_exporter": "python",
   "pygments_lexer": "ipython3",
   "version": "3.10.6"
  }
 },
 "nbformat": 4,
 "nbformat_minor": 5
}
