{
 "cells": [
  {
   "cell_type": "markdown",
   "id": "ec3913b2",
   "metadata": {},
   "source": [
    "# Projeto \n",
    "Gerar PDF automaticamentr para orçamento "
   ]
  },
  {
   "cell_type": "markdown",
   "id": "466505d5",
   "metadata": {},
   "source": [
    "## Pegando os valores"
   ]
  },
  {
   "cell_type": "code",
   "execution_count": 2,
   "id": "ca67722e",
   "metadata": {},
   "outputs": [
    {
     "name": "stdout",
     "output_type": "stream",
     "text": [
      "Digite a descrição do Projeto:Projeto orçamento \n",
      "Digite o total de horas estimadas:25\n",
      "Digite o valor da hora trabalhada:30\n",
      "Digite o prazo estimado:5\n"
     ]
    }
   ],
   "source": [
    "# Peegando os Dados\n",
    "\n",
    "projeto = input('Digite a descrição do Projeto:')\n",
    "horas_estimada = input('Digite o total de horas estimadas:')\n",
    "valor_hora =  input ('Digite o valor da hora trabalhada:')\n",
    "prazo = input('Digite o prazo estimado:')"
   ]
  },
  {
   "cell_type": "markdown",
   "id": "5440aba3",
   "metadata": {},
   "source": [
    "## Calculando "
   ]
  },
  {
   "cell_type": "code",
   "execution_count": 3,
   "id": "d9b26fcc",
   "metadata": {},
   "outputs": [],
   "source": [
    "valor_total = int(horas_estimada)*int(valor_hora)"
   ]
  },
  {
   "cell_type": "markdown",
   "id": "4ea49e21",
   "metadata": {},
   "source": [
    "## Gerador de PDF"
   ]
  },
  {
   "cell_type": "code",
   "execution_count": 4,
   "id": "50e844ac",
   "metadata": {},
   "outputs": [
    {
     "name": "stdout",
     "output_type": "stream",
     "text": [
      "Defaulting to user installation because normal site-packages is not writeable\n",
      "Collecting fpdf\n",
      "  Downloading fpdf-1.7.2.tar.gz (39 kB)\n",
      "  Preparing metadata (setup.py) ... \u001b[?25ldone\n",
      "\u001b[?25hBuilding wheels for collected packages: fpdf\n",
      "  Building wheel for fpdf (setup.py) ... \u001b[?25ldone\n",
      "\u001b[?25h  Created wheel for fpdf: filename=fpdf-1.7.2-py2.py3-none-any.whl size=40705 sha256=06a07ac7bbc400fe9e945e4980f2eedd5c5cff97d49b280baf8d560d00d84b01\n",
      "  Stored in directory: /home/rick/.cache/pip/wheels/f9/95/ba/f418094659025eb9611f17cbcaf2334236bf39a0c3453ea455\n",
      "Successfully built fpdf\n",
      "Installing collected packages: fpdf\n",
      "Successfully installed fpdf-1.7.2\n"
     ]
    }
   ],
   "source": [
    "!pip install fpdf"
   ]
  },
  {
   "cell_type": "code",
   "execution_count": 5,
   "id": "1807193e",
   "metadata": {},
   "outputs": [],
   "source": [
    "from fpdf import FPDF"
   ]
  },
  {
   "cell_type": "code",
   "execution_count": 8,
   "id": "b5ea00f6",
   "metadata": {},
   "outputs": [
    {
     "name": "stdout",
     "output_type": "stream",
     "text": [
      "Orçamento gerado com sucesso\n"
     ]
    }
   ],
   "source": [
    "pdf = FPDF()\n",
    "\n",
    "# adicionando pagina\n",
    "pdf.add_page()\n",
    "\n",
    "\n",
    "# pegando o nosso template\n",
    "# Caso não coloque vai gerar uma pagina em branco\n",
    "# x e y posiçao inicial, como fosse 4º quadrade do plano cartesiano, so que com y sendo positivo \n",
    "pdf.image('template.png', x=0, y=0)\n",
    "\n",
    "#fonte \n",
    "pdf.set_font('Arial')\n",
    "\n",
    "# esse valores numerico e a posição (x,y), e  o terceiro argumento valor que queremos que seja escrito\n",
    "pdf.text(115, 145, projeto)\n",
    "pdf.text(115, 160, horas_estimada)\n",
    "pdf.text(115, 175, valor_hora)\n",
    "pdf.text(115, 190, prazo)\n",
    "pdf.text(115, 205, str(valor_total))\n",
    "\n",
    "#nome do arquivo \n",
    "pdf.output('Orcamento.pdf')\n",
    "\n",
    "print('Orçamento gerado com sucesso')"
   ]
  },
  {
   "cell_type": "code",
   "execution_count": null,
   "id": "67f56c1f",
   "metadata": {},
   "outputs": [],
   "source": []
  }
 ],
 "metadata": {
  "kernelspec": {
   "display_name": "Python 3 (ipykernel)",
   "language": "python",
   "name": "python3"
  },
  "language_info": {
   "codemirror_mode": {
    "name": "ipython",
    "version": 3
   },
   "file_extension": ".py",
   "mimetype": "text/x-python",
   "name": "python",
   "nbconvert_exporter": "python",
   "pygments_lexer": "ipython3",
   "version": "3.10.6"
  }
 },
 "nbformat": 4,
 "nbformat_minor": 5
}
